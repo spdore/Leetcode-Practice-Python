{
 "cells": [
  {
   "cell_type": "markdown",
   "metadata": {},
   "source": [
    "# 2413. 最小偶倍数\n",
    "[题目链接](https://leetcode.cn/problems/smallest-even-multiple/)\n",
    "\n",
    "​**​难度​**​：简单  \n",
    "​**​标签​**​：数学、位运算\n",
    "\n",
    "## 题目描述\n",
    "给定一个正整数 `n`，返回满足以下条件的 ​**​最小正整数​**​：  \n",
    "- 该数既是 `2` 的倍数（偶数）  \n",
    "- 同时是 `n` 的倍数  \n",
    "\n",
    "## 示例\n",
    "​**​示例 1：​**​  \n",
    "输入：`n = 5`  \n",
    "输出：`10`  \n",
    "解释：5 的最小偶倍数是 10（既是2的倍数，也是5的倍数）。  \n",
    "\n",
    "​**​示例 2：​**​  \n",
    "输入：`n = 2`  \n",
    "输出：`2`  \n",
    "解释：2 本身已经是偶数，因此最小偶倍数为自身。  \n",
    "\n",
    "## 约束条件\n",
    "- `1 <= n <= 1000`"
   ]
  },
  {
   "cell_type": "code",
   "execution_count": null,
   "metadata": {},
   "outputs": [],
   "source": [
    "def smallestEvenMultiple(self, n):\n",
    "    \"\"\"\n",
    "    :type n: int\n",
    "    :rtype: int\n",
    "    \"\"\"\n",
    "    if n % 2 == 0:\n",
    "        return n\n",
    "    else:\n",
    "        return 2 * n"
   ]
  }
 ],
 "metadata": {
  "kernelspec": {
   "display_name": "PythonAll",
   "language": "python",
   "name": "python3"
  },
  "language_info": {
   "name": "python",
   "version": "3.8.20"
  }
 },
 "nbformat": 4,
 "nbformat_minor": 2
}
