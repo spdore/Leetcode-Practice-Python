{
 "cells": [
  {
   "cell_type": "markdown",
   "metadata": {},
   "source": [
    "# 1512. 好数对的数目  \n",
    "[题目链接](https://leetcode.cn/problems/number-of-good-pairs/)  \n",
    "​**​难度​**​：简单  \n",
    "​**​标签​**​：数组、哈希表、数学、计数  \n",
    "\n",
    "## 题目描述  \n",
    "给你一个整数数组 `nums`。如果一组数字 `(i, j)` 满足 `nums[i] == nums[j]` 且 `i < j`，则称其为 ​**​好数对​**​。返回数组中好数对的数目。\n",
    "\n",
    "​**​注意​**​：  \n",
    "- `1 <= nums.length <= 100`  \n",
    "- `1 <= nums[i] <= 100`  \n",
    "\n",
    "## 示例  \n",
    "​**​示例 1​**​：  \n",
    "输入：`nums = [1,2,3,1,1,3]`  \n",
    "输出：`4`  \n",
    "解释：存在 4 组好数对，分别为 `(0,3)`、`(0,4)`、`(3,4)`、`(2,5)`。  \n",
    "\n",
    "​**​示例 2​**​：  \n",
    "输入：`nums = [1,1,1,1]`  \n",
    "输出：`6`  \n",
    "解释：所有可能的组合均为好数对。  \n",
    "\n",
    "​**​示例 3​**​：  \n",
    "输入：`nums = [1,2,3]`  \n",
    "输出：`0`"
   ]
  },
  {
   "cell_type": "code",
   "execution_count": null,
   "metadata": {},
   "outputs": [],
   "source": [
    "def numIdenticalPairs(self, nums):\n",
    "    \"\"\"\n",
    "    :type nums: List[int]\n",
    "    :rtype: int\n",
    "    \"\"\"\n",
    "    count = 0\n",
    "    for i in range(len(nums)):\n",
    "        for j in range(i + 1, len(nums)):\n",
    "            if nums[i] == nums [j]:\n",
    "                count += 1\n",
    "    return count"
   ]
  }
 ],
 "metadata": {
  "kernelspec": {
   "display_name": "PythonAll",
   "language": "python",
   "name": "python3"
  },
  "language_info": {
   "name": "python",
   "version": "3.8.20"
  }
 },
 "nbformat": 4,
 "nbformat_minor": 2
}
