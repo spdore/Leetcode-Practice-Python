{
 "cells": [
  {
   "cell_type": "markdown",
   "metadata": {},
   "source": [
    "# 2235. 两整数相加\n",
    "[题目链接](https://leetcode.cn/problems/add-two-integers/)\n",
    "\n",
    "​**​难度​**​：简单  \n",
    "​**​标签​**​：数学、位运算\n",
    "\n",
    "## 题目描述\n",
    "给定两个整数 `num1` 和 `num2`，返回这两个整数的和。  \n",
    "​**​注意​**​：  \n",
    "- `-100 <= num1, num2 <= 100`\n",
    "\n",
    "## 示例\n",
    "​**​示例 1：​**​  \n",
    "输入：`num1 = 12`, `num2 = 5`  \n",
    "输出：`17`  \n",
    "解释：`12 + 5 = 17`。\n",
    "\n",
    "​**​示例 2：​**​  \n",
    "输入：`num1 = -10`, `num2 = 4`  \n",
    "输出：`-6`  \n",
    "解释：`-10 + 4 = -6`"
   ]
  },
  {
   "cell_type": "code",
   "execution_count": null,
   "metadata": {},
   "outputs": [],
   "source": [
    "def sum(num1, num2):    \n",
    "    return num1 + num2"
   ]
  }
 ],
 "metadata": {
  "kernelspec": {
   "display_name": "PythonAll",
   "language": "python",
   "name": "python3"
  },
  "language_info": {
   "name": "python",
   "version": "3.8.20"
  }
 },
 "nbformat": 4,
 "nbformat_minor": 2
}
