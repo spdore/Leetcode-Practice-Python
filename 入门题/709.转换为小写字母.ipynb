{
 "cells": [
  {
   "cell_type": "markdown",
   "metadata": {},
   "source": [
    "# 709. 转换成小写字母\n",
    "[题目链接](https://leetcode.cn/problems/to-lower-case/)\n",
    "\n",
    "​**​难度​**​：简单  \n",
    "​**​标签​**​：字符串、模拟\n",
    "\n",
    "## 题目描述\n",
    "实现一个函数，将字符串中的大写字母全部转换成小写字母，其他字符保持不变，返回新字符串。  \n",
    "​**​要求​**​：  \n",
    "- 不使用内置的字符串大小写转换函数（如 `str.toLowerCase()`）\n",
    "\n",
    "## 示例\n",
    "​**​示例 1​**​：  \n",
    "输入：`\"Hello\"`  \n",
    "输出：`\"hello\"`\n",
    "\n",
    "​**​示例 2​**​：  \n",
    "输入：`\"LOVELY\"`  \n",
    "输出：`\"lovely\"`\n",
    "\n",
    "​**​示例 3​**​：  \n",
    "输入：`\"here\"`  \n",
    "输出：`\"here\"`\n",
    "\n",
    "## 约束条件\n",
    "- `1 <= s.length <= 100`  \n",
    "- `s` 由 ASCII 字符组成（可能包含字母、数字、符号和空格）"
   ]
  },
  {
   "cell_type": "code",
   "execution_count": null,
   "metadata": {},
   "outputs": [],
   "source": [
    "def toLowerCase(self, s):\n",
    "    \"\"\"\n",
    "    :type s: str\n",
    "    :rtype: str\n",
    "    \"\"\"\n",
    "    return s.lower()  # 大写转小写"
   ]
  }
 ],
 "metadata": {
  "kernelspec": {
   "display_name": "PythonAll",
   "language": "python",
   "name": "python3"
  },
  "language_info": {
   "codemirror_mode": {
    "name": "ipython",
    "version": 3
   },
   "file_extension": ".py",
   "mimetype": "text/x-python",
   "name": "python",
   "nbconvert_exporter": "python",
   "pygments_lexer": "ipython3",
   "version": "3.8.20"
  }
 },
 "nbformat": 4,
 "nbformat_minor": 2
}
