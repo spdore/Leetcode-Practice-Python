{
 "cells": [
  {
   "cell_type": "markdown",
   "metadata": {},
   "source": [
    "# 1534. 统计好三元组\n",
    "[题目链接](https://leetcode.cn/problems/count-good-triplets/)\n",
    "\n",
    "​**​难度​**​：简单  \n",
    "​**​标签​**​：数组、枚举\n",
    "\n",
    "## 题目描述\n",
    "给定一个整数数组 `arr` 和三个整数 `a`、`b`、`c`，统计满足以下条件的​**​好三元组​**​数量：  \n",
    "1. `0 <= i < j < k < arr.length`  \n",
    "2. `|arr[i] - arr[j]| <= a`  \n",
    "3. `|arr[j] - arr[k]| <= b`  \n",
    "4. `|arr[i] - arr[k]| <= c`  \n",
    "\n",
    "要求：  \n",
    "- 返回符合条件的三元组总数  \n",
    "\n",
    "## 示例\n",
    "​**​示例 1​**​：  \n",
    "输入：`arr = [3,0,1,1,9,7], a = 7, b = 2, c = 3`  \n",
    "输出：`4`  \n",
    "解释：存在 4 个满足条件的三元组，例如 `(3,0,1)`  \n",
    "\n",
    "​**​示例 2​**​：  \n",
    "输入：`arr = [1,1,2,2,3], a = 0, b = 0, c = 1`  \n",
    "输出：`0`  \n",
    "解释：没有符合所有条件的三元组  \n",
    "\n",
    "## 约束条件\n",
    "- `3 <= arr.length <= 100`  \n",
    "- `0 <= arr[i] <= 1000`  \n",
    "- `0 <= a, b, c <= 1000`  "
   ]
  },
  {
   "cell_type": "code",
   "execution_count": null,
   "metadata": {},
   "outputs": [],
   "source": [
    "def countGoodTriplets(self, arr, a, b, c):\n",
    "    \"\"\"\n",
    "    :type arr: List[int]\n",
    "    :type a: int\n",
    "    :type b: int\n",
    "    :type c: int\n",
    "    :rtype: int\n",
    "    \"\"\"\n",
    "    length = len(arr)\n",
    "    count = 0\n",
    "\n",
    "    for i in range(length):\n",
    "        for j in range(i + 1, length):\n",
    "            for k in range(j + 1, length):\n",
    "                if abs(arr[i] - arr[j]) <= a and abs(arr[j] - arr[k]) <= b and abs(arr[k] - arr[i]) <= c:\n",
    "                    count += 1\n",
    "\n",
    "    return count"
   ]
  }
 ],
 "metadata": {
  "kernelspec": {
   "display_name": "PythonAll",
   "language": "python",
   "name": "python3"
  },
  "language_info": {
   "name": "python",
   "version": "3.8.20"
  }
 },
 "nbformat": 4,
 "nbformat_minor": 2
}
