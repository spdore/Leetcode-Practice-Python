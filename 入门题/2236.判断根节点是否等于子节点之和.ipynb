{
 "cells": [
  {
   "cell_type": "markdown",
   "metadata": {},
   "source": [
    "# 2236. 判断根节点是否等于子节点之和\n",
    "[题目链接](https://leetcode.cn/problems/root-equals-sum-of-children/)\n",
    "\n",
    "​**​难度​**​：简单  \n",
    "​**​标签​**​：树、二叉树、数学\n",
    "\n",
    "## 题目描述\n",
    "给定一个由 ​**​恰好三个节点​**​ 组成的二叉树，包含根节点、左子节点和右子节点。要求判断根节点的值是否等于其两个子节点值的和。若满足条件则返回 `true`，否则返回 `false`。\n",
    "\n",
    "​**​注意​**​：  \n",
    "- 题目保证输入二叉树的结构始终为根节点 + 左子节点 + 右子节点  \n",
    "- 节点值范围为 `[-100, 100]`\n",
    "\n",
    "## 示例\n",
    "​**​示例 1​**​：  \n",
    "输入：`root = [10,4,6]`  \n",
    "输出：`true`  \n",
    "解释：根节点值为 `10`，左子节点值为 `4`，右子节点值为 `6`，满足 `10 = 4 + 6`[1,3](@ref)。\n",
    "\n",
    "​**​示例 2​**​：  \n",
    "输入：`root = [5,3,1]`  \n",
    "输出：`false`  \n",
    "解释：根节点值为 `5`，左子节点值为 `3`，右子节点值为 `1`，`5 ≠ 3 + 1`[2,4](@ref)。"
   ]
  },
  {
   "cell_type": "code",
   "execution_count": 1,
   "metadata": {},
   "outputs": [],
   "source": [
    "def checkTree(self, root):\n",
    "    \"\"\"\n",
    "    :type root: Optional[TreeNode]\n",
    "    :rtype: bool\n",
    "    \"\"\"\n",
    "    return root.val == root.left.val + root.right.val"
   ]
  }
 ],
 "metadata": {
  "kernelspec": {
   "display_name": "PythonAll",
   "language": "python",
   "name": "python3"
  },
  "language_info": {
   "codemirror_mode": {
    "name": "ipython",
    "version": 3
   },
   "file_extension": ".py",
   "mimetype": "text/x-python",
   "name": "python",
   "nbconvert_exporter": "python",
   "pygments_lexer": "ipython3",
   "version": "3.8.20"
  }
 },
 "nbformat": 4,
 "nbformat_minor": 2
}
