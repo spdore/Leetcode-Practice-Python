{
 "cells": [
  {
   "cell_type": "markdown",
   "metadata": {},
   "source": [
    "# 1486. 数组异或操作\n",
    "[题目链接](https://leetcode.cn/problems/xor-operation-in-an-array/)\n",
    "\n",
    "​**​难度​**​：简单  \n",
    "​**​标签​**​：位运算、数组、模拟\n",
    "\n",
    "## 题目描述\n",
    "给你两个整数 `n` 和 `start`。数组 `nums` 定义为：`nums[i] = start + 2 * i`（下标从 0 开始）且 `n == nums.length`。请返回 `nums` 中所有元素按位异或（XOR）后得到的结果。\n",
    "\n",
    "​**​注意​**​：\n",
    "- `1 <= n <= 1000`\n",
    "- `0 <= start <= 1000`\n",
    "- `n == nums.length`\n",
    "\n",
    "## 示例\n",
    "​**​示例 1：​**​  \n",
    "输入：`n = 5`, `start = 0`  \n",
    "输出：`8`  \n",
    "解释：数组 nums 为 `[0, 2, 4, 6, 8]`，其中 `(0 ^ 2 ^ 4 ^ 6 ^ 8) = 8`。\n",
    "\n",
    "​**​示例 2：​**​  \n",
    "输入：`n = 4`, `start = 3`  \n",
    "输出：`8`  \n",
    "解释：数组 nums 为 `[3, 5, 7, 9]`，其中 `(3 ^ 5 ^ 7 ^ 9) = 8`。\n",
    "\n",
    "​**​示例 3：​**​  \n",
    "输入：`n = 1`, `start = 7`  \n",
    "输出：`7`  \n",
    "解释：数组仅包含一个元素 `7`，结果为 `7`。\n",
    "\n",
    "​**​示例 4：​**​  \n",
    "输入：`n = 10`, `start = 5`  \n",
    "输出：`2`  \n",
    "解释：数组元素依次为 `[5,7,9,11,13,15,17,19,21,23]`，异或结果为 `2`。"
   ]
  },
  {
   "cell_type": "code",
   "execution_count": null,
   "metadata": {},
   "outputs": [],
   "source": [
    "def xorOperation(self, n, start):\n",
    "    \"\"\"\n",
    "    :type n: int\n",
    "    :type start: int\n",
    "    :rtype: int\n",
    "    \"\"\"\n",
    "    res = 0  # 用res存储结果\n",
    "    for i in range(n):\n",
    "        num = start + 2 * i  # 计算每个值\n",
    "        res = res ^ num  # 进行异或运算\n",
    "    return res"
   ]
  }
 ],
 "metadata": {
  "kernelspec": {
   "display_name": "PythonAll",
   "language": "python",
   "name": "python3"
  },
  "language_info": {
   "name": "python",
   "version": "3.8.20"
  }
 },
 "nbformat": 4,
 "nbformat_minor": 2
}
