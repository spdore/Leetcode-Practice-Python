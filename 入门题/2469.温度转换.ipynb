{
 "cells": [
  {
   "cell_type": "markdown",
   "metadata": {},
   "source": [
    "# 2469. 温度单位转换问题\n",
    "[题目链接](https://leetcode.cn/problems/convert-the-temperature/)\n",
    "\n",
    "​**​难度​**​：简单  \n",
    "​**​标签​**​：数组、基础数学\n",
    "\n",
    "## 题目描述\n",
    "给定一个四舍五入到两位小数的非负浮点数 `celsius` 表示摄氏温度，要求将其转换为开氏度（Kelvin）和华氏度（Fahrenheit），并以数组 `ans = [kelvin, fahrenheit]` 的形式返回结果。转换公式为：\n",
    "- ​**​开氏度​**​ = 摄氏度 + 273.15  \n",
    "- ​**​华氏度​**​ = 摄氏度 × 1.80 + 32.00  \n",
    "\n",
    "要求计算结果与实际答案的误差不超过 10⁻⁵。\n",
    "\n",
    "## 示例\n",
    "​**​示例 1​**​：  \n",
    "输入：`celsius = 36.50`  \n",
    "输出：`[309.65000, 97.70000]`  \n",
    "解释：  \n",
    "- 开氏度：36.50 + 273.15 = 309.65  \n",
    "- 华氏度：36.50 × 1.80 + 32.00 = 97.70  \n",
    "\n",
    "​**​示例 2​**​：  \n",
    "输入：`celsius = 122.11`  \n",
    "输出：`[395.26000, 251.79800]`  \n",
    "解释：  \n",
    "- 开氏度：122.11 + 273.15 = 395.26  \n",
    "- 华氏度：122.11 × 1.80 + 32.00 = 251.798  \n",
    "\n",
    "## 约束条件\n",
    "- `0 <= celsius <= 1000`\n",
    "\n",
    "## 解法思路\n",
    "### 方法一：直接公式计算\n",
    "直接利用题目给出的转换公式进行计算：  \n",
    "1. ​**​开氏度计算​**​：将输入的摄氏温度加上 273.15。  \n",
    "2. ​**​华氏度计算​**​：将输入的摄氏温度乘以 1.80 后再加上 32.00。  \n",
    "\n",
    "​**​注意​**​：由于输入已四舍五入到两位小数，需确保输出结果保留至少五位小数以满足误差要求。例如，Python 中可通过浮点数直接计算，结果默认保留足够精度。\n",
    "\n",
    "### 代码实现\n",
    "```python\n",
    "class Solution:\n",
    "    def convertTemperature(self, celsius: float) -> List[float]:\n",
    "        kelvin = celsius + 273.15\n",
    "        fahrenheit = celsius * 1.80 + 32.00\n",
    "        return [kelvin, fahrenheit]"
   ]
  },
  {
   "cell_type": "code",
   "execution_count": null,
   "metadata": {},
   "outputs": [],
   "source": [
    "def convertTemperature(self, celsius):\n",
    "        ans = [celsius + 273.15, celsius * 1.8 + 32]\n",
    "        return ans"
   ]
  }
 ],
 "metadata": {
  "kernelspec": {
   "display_name": "PythonAll",
   "language": "python",
   "name": "python3"
  },
  "language_info": {
   "name": "python",
   "version": "3.8.20"
  }
 },
 "nbformat": 4,
 "nbformat_minor": 2
}
