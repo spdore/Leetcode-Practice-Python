{
 "cells": [
  {
   "cell_type": "markdown",
   "metadata": {},
   "source": [
    "# 1768. 交替合并字符串\n",
    "[题目链接](https://leetcode.cn/problems/merge-strings-alternately/)\n",
    "\n",
    "​**​难度​**​：简单  \n",
    "​**​标签​**​：字符串、双指针\n",
    "\n",
    "## 题目描述\n",
    "给你两个字符串 `word1` 和 `word2`。请通过 ​**​交替添加字母​**​ 的方式合并这两个字符串，具体来说：  \n",
    "1. 从 `word1` 开始，依次取每个字符添加到合并后的字符串。  \n",
    "2. 交替切换到 `word2` 继续取字符。  \n",
    "3. 如果某个字符串的字符已全部取完，则将另一个字符串剩余字符直接追加到合并结果末尾。  \n",
    "\n",
    "返回合并后的字符串。\n",
    "\n",
    "## 示例\n",
    "​**​示例 1：​**​  \n",
    "输入：`word1 = \"abc\", word2 = \"pqr\"`  \n",
    "输出：`\"apbqcr\"`  \n",
    "解释：交替合并过程如下：  \n",
    "- 取 `word1[0] = 'a'` → `\"a\"`  \n",
    "- 取 `word2[0] = 'p'` → `\"ap\"`  \n",
    "- 取 `word1[1] = 'b'` → `\"apb\"`  \n",
    "- 取 `word2[1] = 'q'` → `\"apbq\"`  \n",
    "- 取 `word1[2] = 'c'` → `\"apbqc\"`  \n",
    "- 取 `word2[2] = 'r'` → `\"apbqcr\"`  \n",
    "\n",
    "​**​示例 2：​**​  \n",
    "输入：`word1 = \"ab\", word2 = \"pqrs\"`  \n",
    "输出：`\"apbqrs\"`  \n",
    "解释：`word2` 比 `word1` 长，剩余字符 `\"rs\"` 直接追加。\n",
    "\n",
    "## 约束条件\n",
    "- `1 <= word1.length, word2.length <= 100`  \n",
    "- `word1` 和 `word2` 由小写英文字母组成。"
   ]
  },
  {
   "cell_type": "code",
   "execution_count": null,
   "metadata": {},
   "outputs": [],
   "source": [
    "\"\"\"\n",
    "1.创建空列表res存储结果\n",
    "2.统计两个字符串长度较小的那个长度\n",
    "3.在最小长度的范围内，将两个字符串的元素依次加入结果\n",
    "4.剩下谁有剩余元素一股脑全部加入\n",
    "5.将最后结果转为字符串后返回即可\n",
    "\"\"\"\n",
    "def mergeAlternately(word1, word2):\n",
    "    res = []  # 创建空列表，存储最后结果\n",
    "    min_len = min(len(word1), len(word2))  # 找到二者更短的那个长度\n",
    "\n",
    "    for i in range(min_len):  # 将长度相同的部分一一加入res\n",
    "        res.append(word1[i])\n",
    "        res.append(word2[i])\n",
    "    \n",
    "    res.append(word1[min_len:])  # 谁有剩谁加入\n",
    "    res.append(word2[min_len:])\n",
    "\n",
    "    return \"\".join(res)  # 列表变为字符串"
   ]
  }
 ],
 "metadata": {
  "kernelspec": {
   "display_name": "PythonAll",
   "language": "python",
   "name": "python3"
  },
  "language_info": {
   "name": "python",
   "version": "3.8.20"
  }
 },
 "nbformat": 4,
 "nbformat_minor": 2
}
