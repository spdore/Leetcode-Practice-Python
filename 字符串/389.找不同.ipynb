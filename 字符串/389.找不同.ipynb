{
 "cells": [
  {
   "cell_type": "markdown",
   "metadata": {},
   "source": [
    "# 389. 找不同\n",
    "[题目链接](https://leetcode.cn/problems/find-the-difference/)\n",
    "\n",
    "​**​难度​**​：简单  \n",
    "​**​标签​**​：哈希表、位运算、字符串、计数\n",
    "\n",
    "## 题目描述\n",
    "给定两个字符串 `s` 和 `t`，其中 `t` 是由 `s` 随机打乱顺序后，在随机位置添加一个字母得到的。请找出 `t` 中被添加的字母。  \n",
    "​**​注意​**​：  \n",
    "- `s` 和 `t` 仅包含小写字母。  \n",
    "- `t` 的长度比 `s` 大 1。\n",
    "\n",
    "## 示例\n",
    "​**​示例 1：​**​  \n",
    "输入：`s = \"abcd\"`, `t = \"abcde\"`  \n",
    "输出：`\"e\"`  \n",
    "解释：`t` 比 `s` 多添加了字母 `'e'`。\n",
    "\n",
    "​**​示例 2：​**​  \n",
    "输入：`s = \"\"`, `t = \"y\"`  \n",
    "输出：`\"y\"`  \n",
    "\n",
    "​**​示例 3：​**​  \n",
    "输入：`s = \"ae\"`, `t = \"aea\"`  \n",
    "输出：`\"a\"`  \n",
    "解释：`t` 中添加了重复的 `'a'`。\n",
    "\n",
    "## 约束条件\n",
    "- `0 <= s.length <= 1000`  \n",
    "- `t.length == s.length + 1`  "
   ]
  },
  {
   "cell_type": "code",
   "execution_count": null,
   "metadata": {},
   "outputs": [],
   "source": [
    "\"\"\"\n",
    "先排序，后比较。\n",
    "1.先对两个字符串进行排序，排序后的字符串只有一个字符位置不能匹配\n",
    "2.从前往后移一一匹配，找到不匹配的那一个返回\n",
    "3.如果是最后一个不匹配则直接返回\n",
    "\"\"\"\n",
    "def findTheDifference(s, t):\n",
    "    \"\"\"\n",
    "    :type s: str\n",
    "    :type t: str\n",
    "    :rtype: str\n",
    "    \"\"\"\n",
    "    s = sorted(s)\n",
    "    t = sorted(t)\n",
    "    for i in range(len(s)):\n",
    "        if s[i] == t[i]:\n",
    "            continue\n",
    "        elif i != len(s):\n",
    "            return t[i]\n",
    "    return t[-1]"
   ]
  },
  {
   "cell_type": "code",
   "execution_count": null,
   "metadata": {},
   "outputs": [],
   "source": [
    "\"\"\"\n",
    "因为两个字符串只有一个不一样，s必有一个字母比t多出现一次\n",
    "1.遍历s，将s的所有字母的出现次数存入字典\n",
    "2.遍历t，遍历一个元素就将计数字典的计数值减一，最后必然有一个元素的值为1，剩下的全为0\n",
    "3.找到为1的元素返回即可\n",
    "\"\"\"\n",
    "def findTheDifference(self, s, t):\n",
    "    \"\"\"\n",
    "    :type s: str\n",
    "    :type t: str\n",
    "    :rtype: str\n",
    "    \"\"\"\n",
    "    dict = {}\n",
    "    for i in t:\n",
    "        if i not in dict:\n",
    "            dict[i] = 1\n",
    "        else:\n",
    "            dict[i] += 1\n",
    "    \n",
    "    for i in s:\n",
    "        dict[i] -= 1\n",
    "\n",
    "    for i in dict:\n",
    "        if dict[i] == 1:\n",
    "            return i"
   ]
  },
  {
   "cell_type": "code",
   "execution_count": 3,
   "metadata": {},
   "outputs": [
    {
     "name": "stdout",
     "output_type": "stream",
     "text": [
      "a\n"
     ]
    }
   ],
   "source": [
    "s = \"a\"\n",
    "t = \"aa\"\n",
    "print(findTheDifference(s, t))"
   ]
  }
 ],
 "metadata": {
  "kernelspec": {
   "display_name": "PythonAll",
   "language": "python",
   "name": "python3"
  },
  "language_info": {
   "codemirror_mode": {
    "name": "ipython",
    "version": 3
   },
   "file_extension": ".py",
   "mimetype": "text/x-python",
   "name": "python",
   "nbconvert_exporter": "python",
   "pygments_lexer": "ipython3",
   "version": "3.8.20"
  }
 },
 "nbformat": 4,
 "nbformat_minor": 2
}
