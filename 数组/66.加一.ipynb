{
 "cells": [
  {
   "cell_type": "markdown",
   "metadata": {},
   "source": [
    "# 66. 加一\n",
    "[题目链接](https://leetcode.cn/problems/plus-one/)\n",
    "\n",
    "​**​难度​**​：简单  \n",
    "​**​标签​**​：数组、数学\n",
    "\n",
    "## 题目描述\n",
    "给定一个由 ​**​整数​**​ 组成的 ​**​非空​**​ 数组 `digits`，数组中的每个元素表示某一位数字（`0-9`）。这些数字按 ​**​高位在前​**​ 的顺序排列（例如，`[1,2,3]` 表示数字 `123`）。  \n",
    "请将这个整数 ​**​加一​**​，并返回结果数组。  \n",
    "假设数组中不包含前导零（数字 `0` 本身除外）。\n",
    "\n",
    "## 示例\n",
    "​**​示例 1：​**​  \n",
    "输入：`digits = [1,2,3]`  \n",
    "输出：`[1,2,4]`  \n",
    "解释：输入数组表示数字 `123`，加一后为 `124`。\n",
    "\n",
    "​**​示例 2：​**​  \n",
    "输入：`digits = [9,9]`  \n",
    "输出：`[1,0,0]`  \n",
    "解释：输入数组表示 `99`，加一后为 `100`。\n",
    "\n",
    "​**​示例 3：​**​  \n",
    "输入：`digits = [8,9,9]`  \n",
    "输出：`[9,0,0]`  \n",
    "解释：末尾的 `9` 进位后变为 `0`，前一位 `8` 加一后为 `9`。\n",
    "\n",
    "## 约束条件\n",
    "- `1 <= digits.length <= 100`  \n",
    "- `0 <= digits[i] <= 9`  "
   ]
  },
  {
   "cell_type": "code",
   "execution_count": 1,
   "metadata": {},
   "outputs": [],
   "source": [
    "\"\"\"\n",
    "先将数组转为数字，然后对数字加一，再把数字转为数组\n",
    "\"\"\"\n",
    "def plusOne(self, digits):\n",
    "    \"\"\"\n",
    "    :type digits: List[int]\n",
    "    :rtype: List[int]\n",
    "    \"\"\"\n",
    "    num_str = ''.join(map(str, digits))\n",
    "    num = int(num_str)\n",
    "    num += 1\n",
    "    result = list(map(int, str(num)))\n",
    "    return result"
   ]
  },
  {
   "cell_type": "code",
   "execution_count": 1,
   "metadata": {},
   "outputs": [],
   "source": [
    "def plusOne(self, digits):\n",
    "    \"\"\"\n",
    "    :type digits: List[int]\n",
    "    :rtype: List[int]\n",
    "    \"\"\"\n",
    "    for i in range(len(digits) - 1, -1, -1):  # 最后一位向最开始步长-1遍历\n",
    "        if digits[i] != 9:  # 最后一位不是九，可以不用进位直接加一返回\n",
    "            digits[i] += 1\n",
    "            return digits\n",
    "        else:  # 最后一位是九\n",
    "            digits[i] = 0  # 9 + 1 = 0进位，处理下一位\n",
    "            if digits[0] == 0:  # 进到最后一位还是0的话，则代表原始数字所有的数字都是9\n",
    "                digits.insert(0, 1)  # 则在最开始加一位1\n",
    "                return digits  # 返回数组"
   ]
  }
 ],
 "metadata": {
  "kernelspec": {
   "display_name": "PythonAll",
   "language": "python",
   "name": "python3"
  },
  "language_info": {
   "codemirror_mode": {
    "name": "ipython",
    "version": 3
   },
   "file_extension": ".py",
   "mimetype": "text/x-python",
   "name": "python",
   "nbconvert_exporter": "python",
   "pygments_lexer": "ipython3",
   "version": "3.8.20"
  }
 },
 "nbformat": 4,
 "nbformat_minor": 2
}
