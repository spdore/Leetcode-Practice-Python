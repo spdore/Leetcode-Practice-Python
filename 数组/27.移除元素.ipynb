{
 "cells": [
  {
   "cell_type": "markdown",
   "metadata": {},
   "source": [
    "# 27. 移除元素\n",
    "[题目链接](https://leetcode.cn/problems/remove-element/)\n",
    "\n",
    "​**​难度​**​：简单  \n",
    "​**​标签​**​：数组、双指针\n",
    "\n",
    "## 题目描述\n",
    "给你一个数组 `nums` 和一个值 `val`，你需要 ​**​原地​**​ 移除所有数值等于 `val` 的元素，并返回移除后数组的新长度。元素的 ​**​相对顺序​**​ 可以改变。\n",
    "\n",
    "要求：  \n",
    "不要使用额外的数组空间，必须仅使用 O(1) 额外空间并 ​**​原地修改输入数组​**​ 。\n",
    "\n",
    "## 示例\n",
    "​**​示例 1：​**​  \n",
    "输入：`nums = [3,2,2,3], val = 3`  \n",
    "输出：`2, nums = [2,2]`  \n",
    "解释：函数应返回新长度 `2`，且前两个元素为 `2`。无需考虑超出新长度的元素。\n",
    "\n",
    "​**​示例 2：​**​  \n",
    "输入：`nums = [0,1,2,2,3,0,4,2], val = 2`  \n",
    "输出：`5, nums = [0,1,3,0,4]`  \n",
    "解释：新数组前五个元素可以是 `[0,1,3,0,4]`，顺序不唯一。\n",
    "\n",
    "## 约束条件\n",
    "- `0 <= nums.length <= 100`  \n",
    "- `0 <= nums[i] <= 50`  \n",
    "- `0 <= val <= 100`"
   ]
  },
  {
   "cell_type": "code",
   "execution_count": null,
   "metadata": {},
   "outputs": [],
   "source": [
    "\"\"\"\n",
    "1.若数组为空直接返回0\n",
    "2.若数组不为空\n",
    "初始化计数器count记录不重复的元素个数\n",
    "遍历数组，若val与当前遍历元素不相等，\n",
    "则修改nums[count]值为i，将计数器加1，此时count就为值不同的元素个数\n",
    "最后返回count即可\n",
    "\"\"\"\n",
    "def removeElement(self, nums, val):\n",
    "    \"\"\"\n",
    "    :type nums: List[int]\n",
    "    :type val: int\n",
    "    :rtype: int\n",
    "    \"\"\"\n",
    "    if not nums:  # 不是数组直接退出，返回0\n",
    "        return 0\n",
    "\n",
    "    count = 0  # 初始化计数器，记录不同的元素\n",
    "\n",
    "    for i in range(len(nums)):  # 遍历数组元素\n",
    "        if nums[i] != val:  # 若值不相等\n",
    "            nums[count] = nums[i]  # 将该值更新入数组 \n",
    "            count += 1  # 计数器加1 \n",
    "    return count  # 返回计数"
   ]
  }
 ],
 "metadata": {
  "kernelspec": {
   "display_name": "PythonAll",
   "language": "python",
   "name": "python3"
  },
  "language_info": {
   "codemirror_mode": {
    "name": "ipython",
    "version": 3
   },
   "file_extension": ".py",
   "mimetype": "text/x-python",
   "name": "python",
   "nbconvert_exporter": "python",
   "pygments_lexer": "ipython3",
   "version": "3.8.20"
  }
 },
 "nbformat": 4,
 "nbformat_minor": 2
}
