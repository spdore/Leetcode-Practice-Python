{
 "cells": [
  {
   "cell_type": "markdown",
   "metadata": {},
   "source": [
    "# 119. 杨辉三角 II\n",
    "[题目链接](https://leetcode.cn/problems/pascals-triangle-ii/)\n",
    "\n",
    "​**​难度​**​：简单  \n",
    "​**​标签​**​：数组、动态规划\n",
    "\n",
    "## 题目描述\n",
    "给定一个非负整数 `rowIndex`，返回「杨辉三角」的第 `rowIndex` 行（​**​行号从 0 开始​**​）。  \n",
    "要求使用 O(k) 额外空间（k 为行长度）。\n",
    "\n",
    "## 示例\n",
    "​**​示例 1：​**​  \n",
    "输入：`rowIndex = 3`  \n",
    "输出：`[1,3,3,1]`  \n",
    "解释：第 3 行对应杨辉三角的第四行（索引从 0 开始）。\n",
    "\n",
    "​**​示例 2：​**​  \n",
    "输入：`rowIndex = 0`  \n",
    "输出：`[1]`\n",
    "\n",
    "## 约束条件\n",
    "- `0 <= rowIndex <= 33`"
   ]
  },
  {
   "cell_type": "code",
   "execution_count": 1,
   "metadata": {},
   "outputs": [
    {
     "name": "stdout",
     "output_type": "stream",
     "text": [
      "[1]\n"
     ]
    }
   ],
   "source": [
    "def getRow(rowIndex):\n",
    "    res = []\n",
    "    if rowIndex == 0:\n",
    "        res = [1]\n",
    "        return res\n",
    "    else:\n",
    "        for i in range(rowIndex + 1):  \n",
    "            row = []  \n",
    "            for j in range(0, i + 1):  \n",
    "                if j == 0 or j == i:  \n",
    "                    row.append(1)\n",
    "                else:  \n",
    "                    row.append(res[i - 1][j] + res[i - 1][j - 1])\n",
    "            res.append(row)  \n",
    "        return res[rowIndex]\n",
    "\n",
    "print(getRow(0))"
   ]
  }
 ],
 "metadata": {
  "kernelspec": {
   "display_name": "PythonAll",
   "language": "python",
   "name": "python3"
  },
  "language_info": {
   "codemirror_mode": {
    "name": "ipython",
    "version": 3
   },
   "file_extension": ".py",
   "mimetype": "text/x-python",
   "name": "python",
   "nbconvert_exporter": "python",
   "pygments_lexer": "ipython3",
   "version": "3.8.20"
  }
 },
 "nbformat": 4,
 "nbformat_minor": 2
}
