{
 "cells": [
  {
   "cell_type": "markdown",
   "metadata": {},
   "source": [
    "# 118. 杨辉三角\n",
    "[题目链接](https://leetcode.cn/problems/pascals-triangle/)\n",
    "\n",
    "​**​难度​**​：简单  \n",
    "​**​标签​**​：数组、动态规划\n",
    "\n",
    "## 题目描述\n",
    "给定一个非负整数 `numRows`，生成「杨辉三角」的前 `numRows` 行。  \n",
    "在杨辉三角中，每个数是它左上方和右上方的数的和（首尾元素固定为 1）。\n",
    "\n",
    "## 示例\n",
    "​**​示例 1：​**​  \n",
    "输入：`numRows = 5`  \n",
    "输出：\n",
    "[\n",
    "[1],\n",
    "[1,1],\n",
    "[1,2,1],\n",
    "[1,3,3,1],\n",
    "[1,4,6,4,1]\n",
    "]\n",
    "\n",
    "\n",
    "​**​示例 2：​**​  \n",
    "输入：`numRows = 1`  \n",
    "输出：`[[1]]`\n",
    "\n",
    "## 约束条件\n",
    "- `1 <= numRows <= 30`"
   ]
  },
  {
   "cell_type": "code",
   "execution_count": null,
   "metadata": {},
   "outputs": [],
   "source": [
    "def generate(self, numRows):\n",
    "    \"\"\"\n",
    "    :type numRows: int\n",
    "    :rtype: List[List[int]]\n",
    "    \"\"\"\n",
    "    res = []  # 结果数组 \n",
    "    for i in range(numRows):  # 遍历三角形的每行\n",
    "        row = []  # 行数组 \n",
    "        for j in range(0, i + 1):  # 遍历每行的各个元素\n",
    "            if j == 0 or j == i:  # 最开始和最后的元素，赋值为1\n",
    "                row.append(1)\n",
    "            else:  # 其他情况取上行的元素相加进行赋值\n",
    "                row.append(res[i - 1][j] + res[i - 1][j - 1])\n",
    "        res.append(row)  # 将处理完的行加入三角形 \n",
    "    return res"
   ]
  }
 ],
 "metadata": {
  "kernelspec": {
   "display_name": "PythonAll",
   "language": "python",
   "name": "python3"
  },
  "language_info": {
   "name": "python",
   "version": "3.8.20"
  }
 },
 "nbformat": 4,
 "nbformat_minor": 2
}
