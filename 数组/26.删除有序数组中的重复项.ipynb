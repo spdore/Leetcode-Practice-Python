{
 "cells": [
  {
   "cell_type": "markdown",
   "metadata": {},
   "source": [
    "# 26. 删除有序数组中的重复项\n",
    "[题目链接](https://leetcode.cn/problems/remove-duplicates-from-sorted-array/)\n",
    "\n",
    "​**​难度​**​：简单  \n",
    "​**​标签​**​：数组、双指针\n",
    "\n",
    "## 题目描述\n",
    "给你一个 ​**​升序排列​**​ 的数组 `nums` ，请你 ​**​原地​**​ 删除重复出现的元素，使每个元素 ​**​只出现一次​**​ ，返回删除后数组的新长度。元素的 ​**​相对顺序​**​ 应该保持 ​**​一致​**​ 。\n",
    "\n",
    "要求：  \n",
    "不要使用额外的数组空间，必须在 ​**​原地修改输入数组​**​ 并在使用 O(1) 额外空间的条件下完成。\n",
    "\n",
    "## 示例\n",
    "​**​示例 1：​**​  \n",
    "输入：`nums = [1,1,2]`  \n",
    "输出：`2, nums = [1,2]`  \n",
    "解释：函数应返回新长度 `2`，原数组前两个元素被修改为 `1` 和 `2`。\n",
    "\n",
    "​**​示例 2：​**​  \n",
    "输入：`nums = [0,0,1,1,1,2,2,3,3,4]`  \n",
    "输出：`7, nums = [0,1,2,3,4,_,_,_,_,_]`  \n",
    "解释：函数应返回新长度 `7`，原数组前七个元素被修改为 `0, 1, 2, 3, 4`（无需考虑超出新长度的元素）。\n",
    "\n",
    "## 约束条件\n",
    "- `1 <= nums.length <= 3 * 10^4`\n",
    "- `-10^4 <= nums[i] <= 10^4`\n",
    "- `nums` 已按 ​**​升序​**​ 排列"
   ]
  },
  {
   "cell_type": "code",
   "execution_count": null,
   "metadata": {},
   "outputs": [],
   "source": [
    "\"\"\"\n",
    "1.若数组为空直接返回0\n",
    "2.若数组不为空\n",
    "初始化计数器count记录不重复的元素个数\n",
    "遍历数组，若nums[count]与当前遍历元素不相等，\n",
    "则修改nums[count]值为i，将计数器加1\n",
    "最后返回count + 1即可\n",
    "\"\"\"\n",
    "def removeDuplicates(self, nums):\n",
    "    \"\"\"\n",
    "    :type nums: List[int]\n",
    "    :rtype: int\n",
    "    \"\"\"\n",
    "    if not nums:  # 不是数组，直接返回0\n",
    "        return 0\n",
    "    \n",
    "    count = 0  # 计数器，记录不同的数字个数\n",
    "\n",
    "    for i in range(len(nums)):  # 遍历数组\n",
    "        if nums[count] != nums[i]:  # 如果计数器与当前遍历元素不相等\n",
    "            count += 1  # 计数器加1 \n",
    "            nums[count] = nums[i]  # 填充元素，更新数组\n",
    "\n",
    "    return count + 1  # 返回值"
   ]
  }
 ],
 "metadata": {
  "kernelspec": {
   "display_name": "PythonAll",
   "language": "python",
   "name": "python3"
  },
  "language_info": {
   "codemirror_mode": {
    "name": "ipython",
    "version": 3
   },
   "file_extension": ".py",
   "mimetype": "text/x-python",
   "name": "python",
   "nbconvert_exporter": "python",
   "pygments_lexer": "ipython3",
   "version": "3.8.20"
  }
 },
 "nbformat": 4,
 "nbformat_minor": 2
}
