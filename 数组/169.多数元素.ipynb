{
 "cells": [
  {
   "cell_type": "markdown",
   "metadata": {},
   "source": [
    "# 169. 多数元素\n",
    "[题目链接](https://leetcode.cn/problems/majority-element/)\n",
    "\n",
    "​**​难度​**​：简单  \n",
    "​**​标签​**​：数组、哈希表、分治、计数、排序\n",
    "\n",
    "## 题目描述\n",
    "给定一个大小为 `n` 的数组 `nums`，返回其中的 ​**​多数元素​**​。多数元素是指在数组中出现次数 ​**​超过​**​ `⌊n/2⌋` 的元素（假设数组非空，且给定的数组总是存在多数元素）。\n",
    "\n",
    "## 示例\n",
    "​**​示例 1：​**​  \n",
    "输入：`nums = [3,2,3]`  \n",
    "输出：`3`  \n",
    "解释：元素 `3` 出现 2 次，占 2/3 > 1/2。\n",
    "\n",
    "​**​示例 2：​**​  \n",
    "输入：`nums = [2,2,1,1,1,2,2]`  \n",
    "输出：`2`  \n",
    "解释：元素 `2` 出现 4 次，占 4/7 > 1/2。\n",
    "\n",
    "## 约束条件\n",
    "- `n == nums.length`  \n",
    "- `1 <= n <= 5 * 10^4`  \n",
    "- `-10^9 <= nums[i] <= 10^9`"
   ]
  },
  {
   "cell_type": "code",
   "execution_count": null,
   "metadata": {},
   "outputs": [],
   "source": [
    "\"\"\"\n",
    "利用字典存储数字出现的次数\n",
    "谁的次数大于half谁就是多数元素\n",
    "\"\"\"\n",
    "def majorityElement(nums):\n",
    "    dict = {}  # 用字典记录出现次数\n",
    "    half = len(nums)/2  # 达到半数所需要的数量\n",
    "\n",
    "    for i in nums:\n",
    "        if i not in dict:\n",
    "            dict[i] = 1\n",
    "        else:\n",
    "            dict[i] += 1\n",
    "    \n",
    "    for i in dict:  # 遍历字典，找到是谁超过了half次\n",
    "        if dict[i] > half:\n",
    "            return i"
   ]
  },
  {
   "cell_type": "code",
   "execution_count": null,
   "metadata": {},
   "outputs": [],
   "source": [
    "\"\"\"\n",
    "摩尔投票法\n",
    "1.初始化计票数与候选人\n",
    "2.遍历数组，票数为0代表没老大，令当前元素变成老大\n",
    "3.遍历到自己人票数+1\n",
    "4.不是自己人票数-1\n",
    "5.最后死扛到底的就是多数者，把老大返回\n",
    "\"\"\"\n",
    "def majorityElement(nums):\n",
    "    count = 0  # 计票数\n",
    "    candidate = None  # 多数元素，初始化为空\n",
    "    for i in nums:  # 遍历数组\n",
    "        if count == 0:  # 如果票数为0，则新的候选者上位\n",
    "            candidate = i  # 候选者上位\n",
    "\n",
    "        if i == candidate:  #  遍历到自己人，票数+1\n",
    "            count += 1\n",
    "        else:  # 不是自己人，票数-1\n",
    "            count -= 1\n",
    "    return candidate"
   ]
  }
 ],
 "metadata": {
  "kernelspec": {
   "display_name": "PythonAll",
   "language": "python",
   "name": "python3"
  },
  "language_info": {
   "name": "python",
   "version": "3.8.20"
  }
 },
 "nbformat": 4,
 "nbformat_minor": 2
}
