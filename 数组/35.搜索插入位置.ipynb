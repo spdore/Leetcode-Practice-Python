{
 "cells": [
  {
   "cell_type": "markdown",
   "metadata": {},
   "source": [
    "# 35. 搜索插入位置\n",
    "[题目链接](https://leetcode.cn/problems/search-insert-position/)\n",
    "\n",
    "​**​难度​**​：简单  \n",
    "​**​标签​**​：数组、二分查找\n",
    "\n",
    "## 题目描述\n",
    "给定一个 ​**​升序排列​**​ 的整数数组 `nums` 和一个目标值 `target`，请你在数组中查找目标值，并返回其索引。如果目标值不存在于数组中，返回它将会被按顺序插入的位置。  \n",
    "\n",
    "要求：  \n",
    "- 必须使用时间复杂度为 `O(log n)` 的算法。\n",
    "\n",
    "## 示例\n",
    "​**​示例 1：​**​  \n",
    "输入：`nums = [1,3,5,6], target = 5`  \n",
    "输出：`2`  \n",
    "解释：`5` 存在于数组中，索引为 2。\n",
    "\n",
    "​**​示例 2：​**​  \n",
    "输入：`nums = [1,3,5,6], target = 2`  \n",
    "输出：`1`  \n",
    "解释：`2` 不存在，插入到索引 1 的位置（位于 `1` 和 `3` 之间）。\n",
    "\n",
    "​**​示例 3：​**​  \n",
    "输入：`nums = [1,3,5,6], target = 7`  \n",
    "输出：`4`  \n",
    "解释：`7` 不存在，插入到数组末尾。\n",
    "\n",
    "## 约束条件\n",
    "- `1 <= nums.length <= 10^4`  \n",
    "- `-10^4 <= nums[i] <= 10^4`  \n",
    "- `nums` 为 ​**​无重复元素​**​ 的 ​**​升序排列​**​ 数组  \n",
    "- `-10^4 <= target <= 10^4`"
   ]
  },
  {
   "cell_type": "code",
   "execution_count": null,
   "metadata": {},
   "outputs": [],
   "source": [
    "\"\"\"\n",
    "通过二分查找设置头尾指针\n",
    "利用头尾指针找到中间元素\n",
    "1.若匹配则直接返回中间元素下标\n",
    "2.中间元素大于目标值则证明目标值在该数组左侧，更新尾指针为mid - 1\n",
    "3.中间元素小于目标值则证明目标值在该数组右侧，更新头指针为mid + 1\n",
    "4.若一直没找见则返回左侧指针也就是更新后的头指针作为新位置插入\n",
    "\"\"\"\n",
    "def searchInsert(self, nums, target):\n",
    "    \"\"\"\n",
    "    :type nums: List[int]\n",
    "    :type target: int\n",
    "    :rtype: int\n",
    "    \"\"\"\n",
    "    # 二分查找\n",
    "    nums_len = len(nums)  # 获取数组长度，确立头尾指针 \n",
    "    i = 0  # i为头指针\n",
    "    j = nums_len - 1  # j为尾指针\n",
    "    while i <= j:  # 头指针小于等于尾指针遍历数组为完成时\n",
    "        mid = i + (j-i) // 2  # 计算中间指针\n",
    "        if nums[mid] == target:  # 如果找到了直接返回下标\n",
    "            return mid\n",
    "        elif nums[mid] > target:  # 如果中间的数大于目标值，证明目标值在数组左侧\n",
    "            j = mid - 1\n",
    "        else:  # 反之目标值在数组右侧\n",
    "            i = mid + 1      \n",
    "    return i  # 一直找没找到就返回左侧指针也就是更新后的头指针作为新位置插入"
   ]
  }
 ],
 "metadata": {
  "kernelspec": {
   "display_name": "PythonAll",
   "language": "python",
   "name": "python3"
  },
  "language_info": {
   "codemirror_mode": {
    "name": "ipython",
    "version": 3
   },
   "file_extension": ".py",
   "mimetype": "text/x-python",
   "name": "python",
   "nbconvert_exporter": "python",
   "pygments_lexer": "ipython3",
   "version": "3.8.20"
  }
 },
 "nbformat": 4,
 "nbformat_minor": 2
}
