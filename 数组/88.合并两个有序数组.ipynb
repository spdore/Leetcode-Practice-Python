{
 "cells": [
  {
   "cell_type": "markdown",
   "metadata": {},
   "source": [
    "# 88. 合并两个有序数组\n",
    "[题目链接](https://leetcode.cn/problems/merge-sorted-array/)\n",
    "\n",
    "​**​难度​**​：简单  \n",
    "​**​标签​**​：数组、双指针、排序\n",
    "\n",
    "## 题目描述\n",
    "给你两个按 ​**​非递减顺序​**​ 排列的整数数组 `nums1` 和 `nums2`，其中 `nums1` 的有效元素数为 `m`，`nums2` 的有效元素数为 `n`。要求将 `nums2` 合并到 `nums1` 中，使合并后的数组仍保持 ​**​非递减顺序​**​。  \n",
    "\n",
    "​**​特别说明​**​：  \n",
    "- `nums1` 的总长度为 `m + n`，其中后 `n` 个元素为占位值 `0`，应被替换为 `nums2` 的元素。  \n",
    "- 必须 ​**​原地修改​**​ `nums1`，不能返回新数组。\n",
    "\n",
    "## 示例\n",
    "​**​示例 1：​**​  \n",
    "输入：  \n",
    "`nums1 = [1,2,3,0,0,0], m = 3`  \n",
    "`nums2 = [2,5,6], n = 3`  \n",
    "输出：`[1,2,2,3,5,6]`  \n",
    "\n",
    "​**​示例 2：​**​  \n",
    "输入：  \n",
    "`nums1 = [0], m = 0`  \n",
    "`nums2 = [1], n = 1`  \n",
    "输出：`[1]`  \n",
    "\n",
    "## 约束条件\n",
    "- `nums1.length == m + n`  \n",
    "- `nums2.length == n`  \n",
    "- `0 <= m, n <= 200`  \n",
    "- `1 <= m + n <= 200`  \n",
    "- `-10^9 <= nums1[i], nums2[j] <= 10^9`  "
   ]
  },
  {
   "cell_type": "code",
   "execution_count": null,
   "metadata": {},
   "outputs": [],
   "source": [
    "nums1 = [1,2,3,0,0,0]\n",
    "m = 3\n",
    "nums2 = [2,5,6]\n",
    "n = 3"
   ]
  },
  {
   "cell_type": "code",
   "execution_count": null,
   "metadata": {},
   "outputs": [],
   "source": [
    "\"\"\"\n",
    "先删除多余的零，再合并数组并排序。\n",
    "\"\"\"\n",
    "def merge(nums1, m, nums2, n):\n",
    "    \"\"\"\n",
    "    :type nums1: List[int]\n",
    "    :type m: int\n",
    "    :type nums2: List[int]\n",
    "    :type n: int\n",
    "    :rtype: None Do not return anything, modify nums1 in-place instead.\n",
    "    \"\"\"\n",
    "    # 删除 nums1 的后 n 个占位符\n",
    "    del nums1[m:]\n",
    "    nums1.extend(nums2)\n",
    "    nums1.sort()  # 原地排序，不需要赋值"
   ]
  }
 ],
 "metadata": {
  "kernelspec": {
   "display_name": "PythonAll",
   "language": "python",
   "name": "python3"
  },
  "language_info": {
   "codemirror_mode": {
    "name": "ipython",
    "version": 3
   },
   "file_extension": ".py",
   "mimetype": "text/x-python",
   "name": "python",
   "nbconvert_exporter": "python",
   "pygments_lexer": "ipython3",
   "version": "3.8.20"
  }
 },
 "nbformat": 4,
 "nbformat_minor": 2
}
