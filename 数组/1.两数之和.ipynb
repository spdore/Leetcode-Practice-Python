{
 "cells": [
  {
   "cell_type": "markdown",
   "metadata": {},
   "source": [
    "# 1. 两数之和\n",
    "[题目链接](https://leetcode.cn/problems/two-sum/)\n",
    "\n",
    "​**​难度​**​：简单  \n",
    "​**​标签​**​：数组、哈希表\n",
    "\n",
    "## 题目描述\n",
    "给定一个整数数组 `nums` 和一个整数目标值 `target`，请你在该数组中找出 ​**​和为目标值​**​ `target` 的那 ​**​两个​**​ 整数，并返回它们的数组下标。  \n",
    "\n",
    "要求：  \n",
    "- 每种输入 ​**​只会对应一个答案​**​  \n",
    "- 数组中 ​**​同一个元素不能重复出现两次​**​  \n",
    "- 返回顺序任意\n",
    "\n",
    "## 示例\n",
    "​**​示例 1：​**​  \n",
    "输入：`nums = [2,7,11,15], target = 9`  \n",
    "输出：`[0,1]`  \n",
    "解释：`nums[0] + nums[1] = 2 + 7 = 9`\n",
    "\n",
    "​**​示例 2：​**​  \n",
    "输入：`nums = [3,2,4], target = 6`  \n",
    "输出：`[1,2]`  \n",
    "解释：`nums[1] + nums[2] = 2 + 4 = 6`\n",
    "\n",
    "​**​示例 3：​**​  \n",
    "输入：`nums = [3,3], target = 6`  \n",
    "输出：`[0,1]`\n",
    "\n",
    "## 约束条件\n",
    "- `2 <= nums.length <= 10^4`  \n",
    "- `-10^9 <= nums[i] <= 10^9`  \n",
    "- `-10^9 <= target <= 10^9`"
   ]
  },
  {
   "cell_type": "code",
   "execution_count": null,
   "metadata": {},
   "outputs": [
    {
     "data": {
      "text/plain": [
       "(1, 2)"
      ]
     },
     "execution_count": 1,
     "metadata": {},
     "output_type": "execute_result"
    }
   ],
   "source": [
    "nums = [3,2,4]\n",
    "target = 6\n",
    "\n",
    "# 暴力解法遍历\n",
    "def twoSum(nums, target):\n",
    "        \"\"\"\n",
    "        :type nums: List[int]\n",
    "        :type target: int\n",
    "        :rtype: List[int]\n",
    "        \"\"\"\n",
    "        count = len(nums)\n",
    "        for i in range(count):\n",
    "            for j in range(i + 1, count):\n",
    "                if nums[i] + nums[j] == target:\n",
    "                    return i, j\n",
    "                else:\n",
    "                    continue \n",
    "\n",
    "twoSum(nums, target)"
   ]
  },
  {
   "cell_type": "code",
   "execution_count": null,
   "metadata": {},
   "outputs": [
    {
     "data": {
      "text/plain": [
       "(1, 2)"
      ]
     },
     "execution_count": 3,
     "metadata": {},
     "output_type": "execute_result"
    }
   ],
   "source": [
    "\"\"\"\n",
    "双哈希表解发，定一动一。\n",
    "通过遍历数组先得到被加数，若该数不在字典内则存入字典变为被加数，将数值作为键值，位置作为值。\n",
    "之后再遍历，直至target与遍历的数相减后的数在字典中，则找到了加数。返回被加数与加数的下标即可。\n",
    "被加数的下标为target - nums[i]键对应的值\n",
    "\"\"\"\n",
    "def twoSum(nums, target):\n",
    "        \"\"\"\n",
    "        :type nums: List[int]\n",
    "        :type target: int\n",
    "        :rtype: List[int]\n",
    "        \"\"\"\n",
    "        dict = {}  # 空字典存储第一个数的下标\n",
    "        for i in range(len(nums)):  # 遍历数组\n",
    "            if target - nums[i] not in dict:  # 如果加数不在字典里\n",
    "                dict[nums[i]] = i  # 字典键值为nums[i]存储值i，代表下标 \n",
    "            else:\n",
    "                return dict[target - nums[i]], i  # target-nums[i]找出被加数 \n",
    "                # 返回被加数与加数的下标\n",
    "\n",
    "twoSum(nums, target)"
   ]
  }
 ],
 "metadata": {
  "kernelspec": {
   "display_name": "PythonAll",
   "language": "python",
   "name": "python3"
  },
  "language_info": {
   "codemirror_mode": {
    "name": "ipython",
    "version": 3
   },
   "file_extension": ".py",
   "mimetype": "text/x-python",
   "name": "python",
   "nbconvert_exporter": "python",
   "pygments_lexer": "ipython3",
   "version": "3.8.20"
  }
 },
 "nbformat": 4,
 "nbformat_minor": 2
}
