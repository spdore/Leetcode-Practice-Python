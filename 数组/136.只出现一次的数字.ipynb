{
 "cells": [
  {
   "cell_type": "markdown",
   "metadata": {},
   "source": [
    "# 136. 只出现一次的数字\n",
    "[题目链接](https://leetcode.cn/problems/single-number/)\n",
    "\n",
    "​**​难度​**​：简单  \n",
    "​**​标签​**​：位运算、数组\n",
    "\n",
    "## 题目描述\n",
    "给定一个 ​**​非空​**​ 整数数组 `nums`，其中某个元素仅出现 ​**​一次​**​，其余每个元素均出现 ​**​两次​**​。找出并返回那个只出现一次的元素。  \n",
    "要求：  \n",
    "- 算法应具有线性时间复杂度（O(n)）。  \n",
    "- 不使用额外空间（仅允许常数级额外空间）。\n",
    "\n",
    "## 示例\n",
    "​**​示例 1：​**​  \n",
    "输入：`nums = [2,2,1]`  \n",
    "输出：`1`  \n",
    "\n",
    "​**​示例 2：​**​  \n",
    "输入：`nums = [4,1,2,1,2]`  \n",
    "输出：`4`  \n",
    "\n",
    "​**​示例 3：​**​  \n",
    "输入：`nums = [-1]`  \n",
    "输出：`-1`  \n",
    "\n",
    "## 约束条件\n",
    "- `1 <= nums.length <= 3 * 10^4`  \n",
    "- `-3 * 10^4 <= nums[i] <= 3 * 10^4`"
   ]
  },
  {
   "cell_type": "code",
   "execution_count": null,
   "metadata": {},
   "outputs": [],
   "source": [
    "\"\"\"\n",
    "用字典统计数字出现次数，最后返回只出现一次的元素\n",
    "1.创建空字典\n",
    "2.统计数字出现次数\n",
    "3.返回只出现一次的元素\n",
    "\"\"\"\n",
    "def singleNumber(nums):\n",
    "    dict = {}\n",
    "    for i in nums:\n",
    "        if i not in dict:\n",
    "            dict[i] = 1\n",
    "        else:\n",
    "            dict[i] += 1\n",
    "    \n",
    "    for i in dict:\n",
    "        if dict[i] == 1:\n",
    "            return i"
   ]
  },
  {
   "cell_type": "code",
   "execution_count": null,
   "metadata": {},
   "outputs": [],
   "source": [
    "\"\"\"\n",
    "例：\n",
    "3xor2xor1xor2xor1 = 3xor(2xor2)xor(1xor1) = 3 xor 0 = 3\n",
    "将数组中所有元素取异或，最后结果就是多的那个元素\n",
    "\"\"\"\n",
    "def singleNumber(self, nums):\n",
    "    \"\"\"\n",
    "    :type nums: List[int]\n",
    "    :rtype: int\n",
    "    \"\"\"\n",
    "    for i in range(1, len(nums)):  # nums长度为1时循环不会执行，代表只有一个元素直接返回\n",
    "        nums[0] ^= nums[i]  # 将每个元素都取异或操作，最后的结果就是多的数字\n",
    "    return nums[0] "
   ]
  }
 ],
 "metadata": {
  "kernelspec": {
   "display_name": "PythonAll",
   "language": "python",
   "name": "python3"
  },
  "language_info": {
   "name": "python",
   "version": "3.8.20"
  }
 },
 "nbformat": 4,
 "nbformat_minor": 2
}
