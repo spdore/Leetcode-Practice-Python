{
 "cells": [
  {
   "cell_type": "markdown",
   "metadata": {},
   "source": [
    "# 121. 买卖股票的最佳时机\n",
    "[题目链接](https://leetcode.cn/problems/best-time-to-buy-and-sell-stock/)\n",
    "\n",
    "​**​难度​**​：简单  \n",
    "​**​标签​**​：数组、动态规划\n",
    "\n",
    "## 题目描述\n",
    "给定一个数组 `prices`，它的第 `i` 个元素 `prices[i]` 表示一支股票第 `i` 天的价格。  \n",
    "你只能选择 ​**​某一天​**​ 买入这只股票，并选择在 ​**​未来的某一个不同的日子​**​ 卖出。设计一个算法来计算你所能获取的最大利润。  \n",
    "如果无法获取任何利润，返回 `0`。\n",
    "\n",
    "## 示例\n",
    "​**​示例 1：​**​  \n",
    "输入：`prices = [7,1,5,3,6,4]`  \n",
    "输出：`5`  \n",
    "解释：在第 2 天（价格=1）买入，第 5 天（价格=6）卖出，最大利润 = 6-1 = 5。\n",
    "\n",
    "​**​示例 2：​**​  \n",
    "输入：`prices = [7,6,4,3,1]`  \n",
    "输出：`0`  \n",
    "解释：价格始终递减，无法通过交易获利。\n",
    "\n",
    "## 约束条件\n",
    "- `1 <= prices.length <= 10^5`  \n",
    "- `0 <= prices[i] <= 10^4`"
   ]
  },
  {
   "cell_type": "code",
   "execution_count": null,
   "metadata": {},
   "outputs": [],
   "source": [
    "\"\"\"\n",
    "动态规划思想\n",
    "数组为空返回0\n",
    "当前股价小于最小股价时更新最小股价\n",
    "当前利润大于最大利润时更新最大利润\n",
    "\"\"\"\n",
    "def maxProfit(self, prices):\n",
    "    \"\"\"\n",
    "    :type prices: List[int]\n",
    "    :rtype: int\n",
    "    \"\"\"\n",
    "    if not prices:\n",
    "        return 0 \n",
    "    \n",
    "    min_price = max(prices)\n",
    "\n",
    "    max_profit = 0\n",
    "\n",
    "    for i in prices:\n",
    "        if i < min_price:  # 当前股价小于最小股价时更新最小股价\n",
    "            min_price = i\n",
    "        elif i - min_price > max_profit:  # 当前利润大于最大利润时更新最大利润\n",
    "            max_profit = i - min_price\n",
    "        \n",
    "    return max_profit"
   ]
  }
 ],
 "metadata": {
  "kernelspec": {
   "display_name": "PythonAll",
   "language": "python",
   "name": "python3"
  },
  "language_info": {
   "name": "python",
   "version": "3.8.20"
  }
 },
 "nbformat": 4,
 "nbformat_minor": 2
}
